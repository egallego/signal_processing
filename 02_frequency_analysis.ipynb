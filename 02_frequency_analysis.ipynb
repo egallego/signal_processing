{
 "cells": [
  {
   "cell_type": "code",
   "execution_count": 1,
   "metadata": {},
   "outputs": [
    {
     "name": "stdout",
     "output_type": "stream",
     "text": [
      "Last update: 2019-08-04 \n"
     ]
    }
   ],
   "source": [
    "import arrow\n",
    "print 'Last update: %s ' % arrow.now().format('YYYY-MM-DD')"
   ]
  },
  {
   "cell_type": "markdown",
   "metadata": {},
   "source": [
    "# Frequency analysis\n",
    "This notebook want to present the frequency analysis of a signal"
   ]
  },
  {
   "cell_type": "code",
   "execution_count": 2,
   "metadata": {},
   "outputs": [],
   "source": [
    "import numpy as np\n",
    "import string\n",
    "import matplotlib.pyplot as plt\n",
    "import seaborn as sns\n",
    "sns.set()\n"
   ]
  },
  {
   "cell_type": "markdown",
   "metadata": {},
   "source": [
    "# Functions"
   ]
  },
  {
   "cell_type": "code",
   "execution_count": 3,
   "metadata": {},
   "outputs": [],
   "source": [
    "def compute_signal(A, f, t, phi):\n",
    "    \"\"\"\n",
    "    Compute a sin wave signal\n",
    "\n",
    "    Parameters\n",
    "    ----------\n",
    "    A: float/int\n",
    "        Amplitud\n",
    "    f: float/int\n",
    "        frequency\n",
    "    t: np.array\n",
    "        time intervals\n",
    "    phi: float/int\n",
    "        phase of the signal\n",
    "\n",
    "    Returns\n",
    "    -------\n",
    "    np.array\n",
    "    \"\"\"\n",
    "    return A * np.sin(2 * np.pi * f * t + phi)\n",
    "\n",
    "\n",
    "def compute_time_axis(fs, max_time=2):\n",
    "    \"\"\"\n",
    "    Compute time axis of a sampled signal\n",
    "    \n",
    "    Parameters\n",
    "    ----------\n",
    "    fs: float/int\n",
    "        sampling frequency\n",
    "    max_time: int\n",
    "        max time of the signal\n",
    "\n",
    "    Returns\n",
    "    -------\n",
    "    np.array:\n",
    "        timestamps of the sampled signal\n",
    "    \"\"\"\n",
    "    ts = 1 / float(fs)\n",
    "    return np.arange(0, max_time, ts)\n",
    "\n",
    "\n"
   ]
  },
  {
   "cell_type": "markdown",
   "metadata": {},
   "source": [
    "# Frequency Analysis\n",
    "Frequency analysis of a signal involve the resolution of the signal into his frequency (sinuzoidal) components. It is known that any periodic signal $f(t)$ can be writen as:\n",
    "\n",
    "$$f(n)=a_0 + \\sum_{n=1}^{\\infty}{a_n cos(nwt)} + \\sum_{n=1}^{\\infty}{b_n sin(nwt)}$$\n",
    "\n",
    "where $w=2 \\pi T_s$ and $T_s$ is the sampling period. Coeficients $a$ and $b$ of this series can be written as: \n",
    "\n",
    "$$a_0 = \\frac{1}{T_s} \\int_{-T_s/2}^{T_s/2} f(t) dt $$\n",
    "\n",
    "$$a_n = \\frac{2}{T_s} \\int_{-T_s/2}^{T_s/2} f(t) cos(nwt) dt $$\n",
    "\n",
    "$$b_n = \\frac{2}{T_s} \\int_{-T_s/2}^{T_s/2} f(t) sin(nwt) dt $$\n",
    "\n",
    "We can rewrite the previous equations as:\n",
    "\n",
    "$$f(n)= \\sum_{n=1}^{\\infty}{d(n) \\cdot e^{-(jnwt)}}$$\n",
    "\n",
    "where:\n",
    "\n",
    "$$d_n= \\frac{1}{T_p}\\int_{-T_p/2}^{T_p/2} f(t) \\cdot e^{-jnwt} dt$$\n",
    "\n",
    "From the prevous expression we can extract the amplitud of the converted signal and the phase:\n",
    "\n",
    "$$d_n = (a_n^2 + b_n^2)^{1/2}$$\n",
    "\n",
    "$$\\phi = -tan^{-1} \\bigg(\\frac{b_n}{a_n}\\bigg)$$"
   ]
  },
  {
   "cell_type": "markdown",
   "metadata": {},
   "source": [
    "## Decomposition example\n",
    "The following example from _Digital signal processing_ book [1] present the decompostion of rectangular pulse train as the one of the image.\n",
    "\n",
    "![](img/square_pulse.png)\n",
    "\n",
    "We can compute the coeficients as:\n",
    "\n",
    "$$d_n=\\frac{1}{T_p}\\int_{-\\tau/2}^{\\tau/2} A \\cdot e^{-jnwt} dt$$\n",
    "\n",
    "$$=\\frac{A}{nwT_p}\\frac{e^{-jnw\\tau/2} \\cdot e^{jnw\\tau/2}}{-j} $$\n",
    "\n",
    "$$=\\frac{A}{n\\pi f T_p}\\frac{e^{-jn\\pi f\\tau} \\cdot e^{jn\\pi f \\tau}}{-2j}$$\n",
    "\n",
    "$$d_n= \\frac{A}{n\\pi f T_p}\\frac{sin n\\pi f\\tau}{n\\pi f\\tau}  $$\n",
    "\n"
   ]
  },
  {
   "cell_type": "markdown",
   "metadata": {},
   "source": [
    "# References"
   ]
  },
  {
   "cell_type": "markdown",
   "metadata": {},
   "source": [
    "[1] \tJ. G. Proakis, D. G. Manolakis, \"Digital signal processing (3rd ed.): principles, algorithms, and applications\". Prentice-Hall. ISBN:0-13-373762-4"
   ]
  },
  {
   "cell_type": "code",
   "execution_count": null,
   "metadata": {},
   "outputs": [],
   "source": []
  }
 ],
 "metadata": {
  "kernelspec": {
   "display_name": "Python2 (signal_processing)",
   "language": "python",
   "name": "signal_processing"
  },
  "language_info": {
   "codemirror_mode": {
    "name": "ipython",
    "version": 2
   },
   "file_extension": ".py",
   "mimetype": "text/x-python",
   "name": "python",
   "nbconvert_exporter": "python",
   "pygments_lexer": "ipython2",
   "version": "2.7.15rc1"
  }
 },
 "nbformat": 4,
 "nbformat_minor": 2
}
